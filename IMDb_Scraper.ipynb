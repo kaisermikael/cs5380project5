from imdb import Cinemagoer
import time
import html5lib
from selenium import webdriver
from bs4 import BeautifulSoup
import os
import csv
import re

ia = Cinemagoer()
movie = ia.get_movie('7286456')
print([str(x) for x in movie['cast']])


def get_page_soup(base_url: str, url: str, pages=None, iter_count=None):
    if pages is None:
        pages = []
    if iter_count is None:
        iter_count = 0
    if len(pages) > 50:
        return pages
    print("Getting IMDB page {}...".format(len(pages)))
    options = webdriver.ChromeOptions()
    options.add_argument('--ignore-certificate-errors')
    options.add_argument('--incognito')
    options.add_argument('--headless')
    driver = webdriver.Chrome(options=options)
    time.sleep(1)
    target_page = url
    driver.get(target_page)
    page_source = driver.page_source
    soup = BeautifulSoup(page_source, 'html5lib')
    pages.append(soup)
    driver.quit()
    load_buttons = soup.find_all('a', attrs={'class': 'lister-page-next next-page'})
    for button in load_buttons:
        print("Found next button: {}".format(button))
        button_soup = BeautifulSoup(str(button), 'html5lib')
        link = button_soup.find('a')
        print(link['href'])
        # print("\tLoading next page: \'{}\'".format(link['href']))
        get_page_soup(base_url, "{}{}".format(base_url, link['href']), pages, iter_count+1)
    return pages


def remove_bad_chars(input_str: str):
    bad_strings = ["  ", '\n', '‘', '’']
    for bs in bad_strings:
        input_str = input_str.replace(bs, '')

    return input_str


need_csv = True
if need_csv is True:
    movie_dicts = []

    movie_count = 0
    movie_error_count = 0
    movie_times = []
    start_time = time.time()
    imdb_base_url = "https://www.imdb.com"
    imdb_url = "{}/search/title/?release_date=2000,2022&sort=num_votes,desc&title_type=feature".format(imdb_base_url)
    gallery_pages = get_page_soup(imdb_base_url, imdb_url)
    print("Finished getting rolling imdb pages!")
    for page in gallery_pages:
        if movie_count > 1000:
            break
        soup = BeautifulSoup(str(page), 'html5lib')
        page_movies = soup.find_all('div', attrs={'class': 'lister-item-content'})
        page_start_time = time.time()
        for item in page_movies:
            movie_start_time = time.time()
            movie = BeautifulSoup(str(item), 'html5lib')
            links = movie.find_all('a')
            title = ""
            for link in links:
                if str(link).__contains__("title/"):
                    title = str(link)
                    break
            # print("\nGot title: {}".format(title))
            imdbID = (str(title.split('\"')[1].split('/')[2]).replace("tt", ""))
            # print("Got imdbID: {}\n".format(imdbID))
            # print("{}\n".format(str(item)))
            movie = ia.get_movie('{}'.format(imdbID), info=['main'])
            try:
                if not list(movie['box office'].keys()).__contains__("Budget"):
                    continue
                elif not list(movie['box office'].keys()).__contains__("Cumulative Worldwide Gross"):
                    continue
                movie_dict = {'title': movie['title'],
                              'imdbID': imdbID,
                              'cast': list(set([str(x) for x in movie['cast'] if len(x) > 0])),
                              'box_office': movie['box office'],
                              'runtimes': list(set([int(x) for x in movie['runtimes'] if len(x) > 0])),
                              'producer': list(set([str(x) for x in movie['producer'] if len(x) > 0])),
                              'editor': list(set([str(x) for x in movie['editor'] if len(x) > 0])),
                              'production_manager': list(set([str(x) for x in movie['production manager'] if len(x) > 0])),
                              'writer': list(set([str(x) for x in movie['writer'] if len(x) > 0])),
                              'cinematographer': list(set([str(x) for x in movie['cinematographer'] if len(x) > 0])),
                              'genres': list(set([str(x) for x in movie['genres'] if len(x) > 0])),
                              'composer': list(set([str(x) for x in movie['composer'] if len(x) > 0])),
                              'votes': movie['votes'],
                              'director': list(set([str(x) for x in movie['director'] if len(x) > 0])),
                              'rating': movie['rating'],
                              'production_companies': list(set(
                                  [str(x) for x in movie['production companies'] if len(x) > 0]))}
                movie_dicts.append(movie_dict)
                movie_count += 1
                movie_end_time = time.time()
                movie_elapsed_time = movie_end_time - movie_start_time
                movie_times.append(movie_elapsed_time)
                print("Processed movie in: {}, current average movie time: {}".format(movie_elapsed_time, (
                        sum(movie_times) / len(movie_times))))
            except KeyError as e:
                movie_error_count += 1
                print("KEY ERROR: on movie: {}, e: {}".format(movie['title'], e))
                continue
            print("\nGOT MOVIE: {}".format(movie_count))
            print(movie_dict)
        page_end_time = time.time()
        elapsed_time = page_end_time - start_time
        print("total elapsed_time: {}".format(elapsed_time))
        print("movie_error_count: {}".format(movie_error_count))
        print("movie_count: {}".format(movie_count))

    csv_rows = []

    csv_filename = "movies.csv"

    if os.path.isfile(csv_filename):
        os.remove(csv_filename)

    songs_start_time = time.time()
    for i in range(len(movie_dicts)):
        movie_dicts[i]["budget"] = movie_dicts[i]["box_office"]['Budget']
        movie_dicts[i]["worldwide_gross"] = movie_dicts[i]['box_office']['Cumulative Worldwide Gross']
        for y in movie_dicts[0].keys():
            if type(movie_dicts[i][y]) is dict:
                movie_dicts[i][y] = list(movie_dicts[i][y])
            elif (type(movie_dicts[i][y]) is list) and (len(movie_dicts[i][y]) == 1):
                movie_dicts[i][y] = movie_dicts[i][y][0]
        csv_rows.append(list(movie_dicts[i].values()))
    print("Writing imdb data to csv...")

    csv_fields = list(movie_dicts[0].keys())
    with open(csv_filename, 'w', newline='', encoding='utf-8') as csvfile:
        csvwriter = csv.writer(csvfile)
        csvwriter.writerow(csv_fields)
        csvwriter.writerows(csv_rows)
    print("Csv complete!")
